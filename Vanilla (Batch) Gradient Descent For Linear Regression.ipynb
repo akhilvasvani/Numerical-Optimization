{
 "cells": [
  {
   "cell_type": "markdown",
   "metadata": {},
   "source": [
    "Let's start with the Linear Regression Cost Function: $J(\\theta) = \\frac{1}{2m} \\sum_{i=1}^{m} (\\hat{y}^{i} - y^{i})^{2}$. \n",
    "\n",
    "$\\frac{\\partial}{\\partial \\theta_{j}} J(\\theta) = \\frac{1}{m} \\sum_{i=1}^{m} (\\hat{y}^{i} - y^{i})\\cdot x_{j}^{i}$"
   ]
  },
  {
   "cell_type": "markdown",
   "metadata": {},
   "source": [
    "For Vanilla (Batch) Gradient Descent:\n",
    "    $\\theta_{j} := \\theta_{j} - \\alpha \\cdot \\frac{\\partial}{\\partial \\theta_{j}} J(\\theta) = \\theta_{j} - \\alpha \\cdot \\frac{1}{m} \\sum_{i=1}^{m} (\\hat{y}^{i} - y^{i})\\cdot x_{j}^{i}$"
   ]
  },
  {
   "cell_type": "code",
   "execution_count": 3,
   "metadata": {},
   "outputs": [],
   "source": [
    "import numpy as np"
   ]
  },
  {
   "cell_type": "code",
   "execution_count": 2,
   "metadata": {},
   "outputs": [],
   "source": [
    "def gradientDescent(X,y,theta,alpha,num_iters):\n",
    "    \"\"\" Performs gradient descent to learn theta\"\"\"\n",
    "    \n",
    "    # number of training examples,\n",
    "    # neat trick: y.size = np.prod(y.shape)\n",
    "    m = y.size \n",
    "    \n",
    "    for i in range(num_iters):\n",
    "        y_hat = np.dot(X, theta)\n",
    "        theta = theta - alpha*(1.0/m) * np.dot(X.T, y_hat-y)\n",
    "    \n",
    "    return theta"
   ]
  },
  {
   "cell_type": "markdown",
   "metadata": {},
   "source": [
    "Notice the $\\textbf{np.dot(X.T, y_hat-y)}$ above? That's basically a vectorized version of \"looping through (summing) the number of training samples\". YES, it takes a lot of time."
   ]
  }
 ],
 "metadata": {
  "kernelspec": {
   "display_name": "Python 3",
   "language": "python",
   "name": "python3"
  },
  "language_info": {
   "codemirror_mode": {
    "name": "ipython",
    "version": 3
   },
   "file_extension": ".py",
   "mimetype": "text/x-python",
   "name": "python",
   "nbconvert_exporter": "python",
   "pygments_lexer": "ipython3",
   "version": "3.6.7"
  }
 },
 "nbformat": 4,
 "nbformat_minor": 2
}
