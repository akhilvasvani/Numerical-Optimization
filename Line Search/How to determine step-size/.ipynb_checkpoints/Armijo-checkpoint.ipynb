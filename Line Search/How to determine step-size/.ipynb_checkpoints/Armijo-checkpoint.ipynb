{
 "cells": [
  {
   "cell_type": "code",
   "execution_count": 1,
   "metadata": {},
   "outputs": [],
   "source": [
    "import random\n",
    "import numpy as np"
   ]
  },
  {
   "cell_type": "code",
   "execution_count": 2,
   "metadata": {},
   "outputs": [],
   "source": [
    "# the objective function\n",
    "def func(x):\n",
    "    return 100*np.square(np.square(x[0])-x[1])+np.square(x[0]-1)"
   ]
  },
  {
   "cell_type": "code",
   "execution_count": 3,
   "metadata": {},
   "outputs": [],
   "source": [
    "# first order derivatives of the function\n",
    "def dfunc(x):\n",
    "    df1 = 400*x[0]*(np.square(x[0])-x[1])+2*(x[0]-1)\n",
    "    df2 = -200*(np.square(x[0])-x[1])\n",
    "    return np.array([df1, df2])"
   ]
  },
  {
   "cell_type": "code",
   "execution_count": 4,
   "metadata": {},
   "outputs": [],
   "source": [
    "# the algorithm\n",
    "def armijo(valf, grad, niters):\n",
    "    beta = random.random()\n",
    "    sigma = random.uniform(0, .5)\n",
    "    miter, conval, iter_conv, = (0,0,0)\n",
    "    while miter <= niters:\n",
    "        leftf = func(valf+np.power(beta, miter)*grad)\n",
    "        rightf = func(valf) + sigma*np.power(beta, miter)*dfunc(valf).dot(grad)\n",
    "        if leftf-rightf <= 0:\n",
    "            iter_conv = miter\n",
    "            conval = valf+np.power(beta, iter_conv)*grad\n",
    "            break\n",
    "        miter += 1\n",
    "    return conval, func(conval), iter_conv"
   ]
  },
  {
   "cell_type": "code",
   "execution_count": 5,
   "metadata": {},
   "outputs": [
    {
     "name": "stdout",
     "output_type": "stream",
     "text": [
      "The value, minimal and number of iterations are [-0.70414897  0.40829794], 3.6702358648993827, 10\n"
     ]
    }
   ],
   "source": [
    "#initialization\n",
    "start = np.array([-1, 1])\n",
    "direction = np.array([1, -2])\n",
    "maximum_iterations = 30\n",
    "\n",
    "converge_value, minimal, no_iter = armijo(start, direction, maximum_iterations)\n",
    "print(\"The value, minimal and number of iterations are \" + str(converge_value) + \", \" + str(minimal) + \", \" \n",
    "      + str(no_iter))"
   ]
  }
 ],
 "metadata": {
  "kernelspec": {
   "display_name": "Python 3",
   "language": "python",
   "name": "python3"
  },
  "language_info": {
   "codemirror_mode": {
    "name": "ipython",
    "version": 3
   },
   "file_extension": ".py",
   "mimetype": "text/x-python",
   "name": "python",
   "nbconvert_exporter": "python",
   "pygments_lexer": "ipython3",
   "version": "3.6.7"
  }
 },
 "nbformat": 4,
 "nbformat_minor": 2
}
