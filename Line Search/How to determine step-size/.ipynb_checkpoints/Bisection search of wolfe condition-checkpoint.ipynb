{
 "cells": [
  {
   "cell_type": "code",
   "execution_count": 1,
   "metadata": {},
   "outputs": [],
   "source": [
    "import random\n",
    "import numpy as np"
   ]
  },
  {
   "cell_type": "code",
   "execution_count": 2,
   "metadata": {},
   "outputs": [],
   "source": [
    "# Function we want to optimize\n",
    "def func(x):\n",
    "    return 100*np.square(np.square(x[0])-x[1]) + np.square(x[0]-1)"
   ]
  },
  {
   "cell_type": "code",
   "execution_count": 3,
   "metadata": {},
   "outputs": [],
   "source": [
    "# First derivative\n",
    "def dfunc(x):\n",
    "    df1 = 400*x[0]*(np.square(x[0])-x[1])+2*(x[0]-1)\n",
    "    df2 = -200*(np.square(x[0])-x[1])\n",
    "    return np.array([df1, df2])"
   ]
  },
  {
   "cell_type": "code",
   "execution_count": 4,
   "metadata": {},
   "outputs": [],
   "source": [
    "# The Algorithm\n",
    "def wolfe(valf, direction, max_iter):\n",
    "\n",
    "    (alpha, beta, i, step, c1, c2) = (0, 1000, 0, 5.0, 0.15, 0.3)\n",
    "    \n",
    "    stop_iter = 0\n",
    "    stop_val = valf\n",
    "    minima = 0\n",
    "    while i <= max_iter:\n",
    "        # first confition\n",
    "        leftf = func(valf + step*direction)\n",
    "        rightf = func(valf) + c1*dfunc(valf).dot(direction)\n",
    "        if leftf > rightf:\n",
    "            beta = step\n",
    "            step = .5*(alpha + beta)\n",
    "        elif dfunc(valf + step*direction).dot(direction) < c2*dfunc(valf).dot(direction):\n",
    "            alpha = step\n",
    "            if beta > 100:\n",
    "                step = 2*alpha\n",
    "            else:\n",
    "                step = .5*(alpha + beta)\n",
    "        else:\n",
    "            break\n",
    "        i += 1\n",
    "        stop_val = valf+step*direction\n",
    "        stop_iter = i\n",
    "        minima = func(stop_val)\n",
    "    return stop_val, minima, stop_iter, step"
   ]
  },
  {
   "cell_type": "code",
   "execution_count": 5,
   "metadata": {},
   "outputs": [
    {
     "name": "stdout",
     "output_type": "stream",
     "text": [
      "The value, minimal and iterations needed are [0.225 0.   ], 0.8569140625, 2, 1.25\n"
     ]
    }
   ],
   "source": [
    "# Initialization\n",
    "start = np.array([.6, .5])\n",
    "direction = np.array([-.3, -.4])\n",
    "converge_value, minimal, no_iter, size = wolfe(start, direction, 30)\n",
    "print(\"The value, minimal, iterations, and size needed are \" + str(converge_value) + \", \" \n",
    "      + str(minimal) + \", \" + str(no_iter) + ', ' + str(size))"
   ]
  }
 ],
 "metadata": {
  "kernelspec": {
   "display_name": "Python 3",
   "language": "python",
   "name": "python3"
  },
  "language_info": {
   "codemirror_mode": {
    "name": "ipython",
    "version": 3
   },
   "file_extension": ".py",
   "mimetype": "text/x-python",
   "name": "python",
   "nbconvert_exporter": "python",
   "pygments_lexer": "ipython3",
   "version": "3.6.7"
  }
 },
 "nbformat": 4,
 "nbformat_minor": 2
}
