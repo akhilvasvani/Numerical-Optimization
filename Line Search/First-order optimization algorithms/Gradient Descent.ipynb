{
 "cells": [
  {
   "cell_type": "code",
   "execution_count": 1,
   "metadata": {},
   "outputs": [],
   "source": [
    "import numpy as np"
   ]
  },
  {
   "cell_type": "code",
   "execution_count": 2,
   "metadata": {},
   "outputs": [],
   "source": [
    "# The objective function\n",
    "def func(x):\n",
    "    return 100*np.square(np.square(x[0])-x[1])+np.square(x[0]-1)"
   ]
  },
  {
   "cell_type": "code",
   "execution_count": 3,
   "metadata": {},
   "outputs": [],
   "source": [
    "# first order derivatives of the function (the Jacobian)\n",
    "def dfunc(x):\n",
    "    df1 = 400*x[0]*(np.square(x[0])-x[1])+2*(x[0]-1)\n",
    "    df2 = -200*(np.square(x[0])-x[1])\n",
    "    return np.array([df1, df2])"
   ]
  },
  {
   "cell_type": "code",
   "execution_count": 4,
   "metadata": {},
   "outputs": [],
   "source": [
    "# The Gradient descent algorithm\n",
    "def grad(x, max_int):\n",
    "    miter = 1\n",
    "    step = .0001/miter\n",
    "    vals = []\n",
    "    objectfs = []\n",
    "    # you can customize your own condition of convergence, here we limit the number of iterations\n",
    "    while miter <= max_int:\n",
    "        vals.append(x)\n",
    "        objectfs.append(func(x))\n",
    "        temp = x-step*dfunc(x)\n",
    "        if np.abs(func(temp)-func(x))>0.01:\n",
    "            x = temp\n",
    "        else:\n",
    "            break\n",
    "        print(x, func(x), miter)\n",
    "        miter += 1\n",
    "    return vals, objectfs, miter"
   ]
  },
  {
   "cell_type": "code",
   "execution_count": 5,
   "metadata": {},
   "outputs": [
    {
     "name": "stdout",
     "output_type": "stream",
     "text": [
      "[0.9992 5.4   ] 1937.4076932352416 1\n",
      "[1.17512328 5.31196801] 1545.3486587826624 2\n",
      "[1.35986715 5.23334695] 1145.3483938946076 3\n",
      "[1.54387268 5.16566478] 774.3160368917922 4\n",
      "[1.71557359 5.11002234] 470.0270987692811 5\n",
      "[1.8641247  5.06668575] 254.1055126835174 6\n",
      "[1.98263882 5.03485125] 122.84597900325505 7\n",
      "[2.06999519 5.01277136] 54.127460033900505 8\n",
      "[2.13005045 4.99821354] 22.538207813017163 9\n",
      "[2.16911097 4.98899156] 9.429532738570803 10\n",
      "[2.19351384 4.98331258] 4.376329814634371 11\n",
      "[2.20834981 4.97987639] 2.522400568669064 12\n",
      "[2.2172125  4.97781504] 1.863329534402812 13\n",
      "[2.22244857 4.97657936] 1.6335223512808446 14\n",
      "[2.22552013 4.97583333] 1.5543108119816416 15\n",
      "[2.22731302 4.97537546] 1.5271837782347222 16\n"
     ]
    }
   ],
   "source": [
    "#Initialization\n",
    "start = [5, 5]\n",
    "val, objectf, iters = grad(start, 50)"
   ]
  }
 ],
 "metadata": {
  "kernelspec": {
   "display_name": "Python 3",
   "language": "python",
   "name": "python3"
  },
  "language_info": {
   "codemirror_mode": {
    "name": "ipython",
    "version": 3
   },
   "file_extension": ".py",
   "mimetype": "text/x-python",
   "name": "python",
   "nbconvert_exporter": "python",
   "pygments_lexer": "ipython3",
   "version": "3.6.7"
  }
 },
 "nbformat": 4,
 "nbformat_minor": 2
}
