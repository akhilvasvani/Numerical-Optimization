{
 "cells": [
  {
   "cell_type": "code",
   "execution_count": 1,
   "metadata": {},
   "outputs": [],
   "source": [
    "import numpy as np\n",
    "from numpy.linalg import inv"
   ]
  },
  {
   "cell_type": "code",
   "execution_count": 2,
   "metadata": {},
   "outputs": [],
   "source": [
    "#The objective function\n",
    "def func(x):\n",
    "    return 100*np.square(np.square(x[0])-x[1])+np.square(x[0]-1)"
   ]
  },
  {
   "cell_type": "code",
   "execution_count": 3,
   "metadata": {},
   "outputs": [],
   "source": [
    "# first order derivatives of the function\n",
    "def dfunc(x):\n",
    "    df1 = 400*x[0]*(np.square(x[0])-x[1])+2*(x[0]-1)\n",
    "    df2 = -200*(np.square(x[0])-x[1])\n",
    "    return np.array([df1, df2])"
   ]
  },
  {
   "cell_type": "code",
   "execution_count": 4,
   "metadata": {},
   "outputs": [],
   "source": [
    "# second order derivative: the hessian \n",
    "def invhess(x):\n",
    "    df11 = 1200*np.square(x[0])-400*x[1]+2\n",
    "    df12 = -400*x[0]\n",
    "    df21 = -400*x[0]\n",
    "    df22 = 200\n",
    "    hess = np.array([[df11, df12], [df21, df22]])\n",
    "    return inv(hess)"
   ]
  },
  {
   "cell_type": "code",
   "execution_count": 5,
   "metadata": {},
   "outputs": [],
   "source": [
    "#The method\n",
    "def newton(x, max_int):\n",
    "    miter = 1\n",
    "    step = .5\n",
    "    vals = []\n",
    "    objectfs = []\n",
    "    # you can customize your own condition of convergence, here we limit the number of iterations\n",
    "    while miter <= max_int:\n",
    "        vals.append(x)\n",
    "        objectfs.append(func(x))\n",
    "        temp = x-step*(invhess(x).dot(dfunc(x)))\n",
    "        if np.abs(func(temp)-func(x))>0.01:\n",
    "            x = temp\n",
    "        else:\n",
    "            break\n",
    "        print(x, func(x), miter)\n",
    "        miter += 1\n",
    "    return vals, objectfs, miter"
   ]
  },
  {
   "cell_type": "code",
   "execution_count": 6,
   "metadata": {},
   "outputs": [
    {
     "name": "stdout",
     "output_type": "stream",
     "text": [
      "[ 4.99950012 14.99500125] 10015.996500999738 1\n",
      "[ 4.99850075 19.98500862] 2515.9891319336307 2\n",
      "[ 4.9965035  22.46504264] 640.9743156346814 3\n",
      "[ 4.99251498 23.67518762] 172.19472181001353 4\n",
      "[ 4.98456188 24.22078475] 54.94827682735826 5\n",
      "[ 4.96875194 24.37570969] 25.534508005533738 6\n",
      "[ 4.93753006 24.22183522] 17.980607577859715 7\n",
      "[ 4.87690338 23.70182702] 15.708688997277847 8\n",
      "[ 4.7659566  22.66085333] 14.468535895722859 9\n",
      "[ 4.60498788 21.153258  ] 13.273196783901964 10\n",
      "[ 4.44867175 19.7399179 ] 12.151019317491137 11\n",
      "[ 4.29405728 18.38964106] 11.093732736283506 12\n",
      "[ 4.14236045 17.11149476] 10.101532481072594 13\n",
      "[ 3.99316572 15.89928575] 9.171439844130546 14\n",
      "[ 3.84669105 14.7525338 ] 8.301658919062707 15\n",
      "[ 3.70291355 13.6686477 ] 7.489963487430327 16\n",
      "[ 3.56190493 12.64582277] 6.734289227351629 17\n",
      "[ 3.42370436 11.6819802 ] 6.032519109543599 18\n",
      "[ 3.28836654 10.77515251] 5.382560838831825 19\n",
      "[3.1559441  9.92334647] 4.782319830836418 20\n",
      "[3.02649439 9.12459271] 4.229709167267734 21\n",
      "[2.90007737 8.37692968] 3.7226467068415037 22\n",
      "[2.77675676 7.67841059] 3.259056681523529 23\n",
      "[2.65660008 7.02710263] 2.836869850303512 24\n",
      "[2.53967916 6.42108902] 2.4540242239312926 25\n",
      "[2.42607046 5.85847036] 2.1084657085379117 26\n",
      "[2.31585568 5.33736646] 1.7981489002130808 27\n",
      "[2.20912221 4.85591835] 1.5210379805225525 28\n",
      "[2.10596382 4.41229066] 1.2751077585294368 29\n",
      "[2.00648136 4.00467423] 1.058344882856319 30\n",
      "[1.91078358 3.63128922] 0.8687492640582765 31\n",
      "[1.81898804 3.29038872] 0.7043357559087118 32\n",
      "[1.73122212 2.9802628 ] 0.5631361595274927 33\n",
      "[1.64762421 2.69924331] 0.44320163392601775 34\n",
      "[1.56834489 2.44570936] 0.34260562386752896 35\n",
      "[1.4935482  2.21809352] 0.2594474537928738 36\n",
      "[1.42341286 2.01488885] 0.19185678962341826 37\n",
      "[1.3581331  1.83465641] 0.13799924506512215 38\n",
      "[1.29791881 1.67603292] 0.09608351458913175 39\n",
      "[1.24299405 1.53773732] 0.06437056260653057 40\n",
      "[1.19359251 1.41857412] 0.04118559716842384 41\n",
      "[1.14994716 1.31742909] 0.024933802008029717 42\n",
      "[1.1122697 1.2332496] 0.014121033914283581 43\n"
     ]
    }
   ],
   "source": [
    "#Initialization\n",
    "start = [5, 5]\n",
    "val, objectf, iters = newton(start, 50)"
   ]
  }
 ],
 "metadata": {
  "kernelspec": {
   "display_name": "Python 3",
   "language": "python",
   "name": "python3"
  },
  "language_info": {
   "codemirror_mode": {
    "name": "ipython",
    "version": 3
   },
   "file_extension": ".py",
   "mimetype": "text/x-python",
   "name": "python",
   "nbconvert_exporter": "python",
   "pygments_lexer": "ipython3",
   "version": "3.6.7"
  }
 },
 "nbformat": 4,
 "nbformat_minor": 2
}
