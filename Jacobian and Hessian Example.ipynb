{
 "cells": [
  {
   "cell_type": "code",
   "execution_count": 7,
   "metadata": {},
   "outputs": [],
   "source": [
    "import numpy as np\n",
    "from numdifftools import Jacobian, Hessian\n",
    "from scipy.optimize import minimize"
   ]
  },
  {
   "cell_type": "code",
   "execution_count": 8,
   "metadata": {},
   "outputs": [],
   "source": [
    "# Objective Function\n",
    "def fun(x, a):\n",
    "    return (x[0]**2 + x[1]**2) + (0.5*x[0] + x[1])**2 + (0.5*x[0] + x[1])**4"
   ]
  },
  {
   "cell_type": "code",
   "execution_count": 9,
   "metadata": {},
   "outputs": [],
   "source": [
    "# Jacobian Matrix\n",
    "def fun_der(x, a):\n",
    "    return Jacobian(lambda x: fun(x))(x).ravel()"
   ]
  },
  {
   "cell_type": "code",
   "execution_count": 10,
   "metadata": {},
   "outputs": [],
   "source": [
    "# Hessian Matrix\n",
    "def fun_hess(x, a):\n",
    "    return Hessian(lambda x: fun(x))(x)"
   ]
  },
  {
   "cell_type": "code",
   "execution_count": 11,
   "metadata": {},
   "outputs": [
    {
     "name": "stderr",
     "output_type": "stream",
     "text": [
      "/home/akhil/.local/lib/python3.6/site-packages/numdifftools/limits.py:182: FutureWarning: arrays to stack must be passed as a \"sequence\" type such as list or tuple. Support for non-sequence iterables such as generators is deprecated as of NumPy 1.16 and will raise an error in the future.\n",
      "  f_del = np.vstack(list(np.ravel(r)) for r in sequence)\n",
      "/home/akhil/.local/lib/python3.6/site-packages/numdifftools/limits.py:184: FutureWarning: arrays to stack must be passed as a \"sequence\" type such as list or tuple. Support for non-sequence iterables such as generators is deprecated as of NumPy 1.16 and will raise an error in the future.\n",
      "  for step in steps)\n",
      "/home/akhil/.local/lib/python3.6/site-packages/numdifftools/limits.py:182: FutureWarning: arrays to stack must be passed as a \"sequence\" type such as list or tuple. Support for non-sequence iterables such as generators is deprecated as of NumPy 1.16 and will raise an error in the future.\n",
      "  f_del = np.vstack(list(np.ravel(r)) for r in sequence)\n",
      "/home/akhil/.local/lib/python3.6/site-packages/numdifftools/limits.py:184: FutureWarning: arrays to stack must be passed as a \"sequence\" type such as list or tuple. Support for non-sequence iterables such as generators is deprecated as of NumPy 1.16 and will raise an error in the future.\n",
      "  for step in steps)\n",
      "/home/akhil/.local/lib/python3.6/site-packages/numdifftools/limits.py:182: FutureWarning: arrays to stack must be passed as a \"sequence\" type such as list or tuple. Support for non-sequence iterables such as generators is deprecated as of NumPy 1.16 and will raise an error in the future.\n",
      "  f_del = np.vstack(list(np.ravel(r)) for r in sequence)\n",
      "/home/akhil/.local/lib/python3.6/site-packages/numdifftools/limits.py:184: FutureWarning: arrays to stack must be passed as a \"sequence\" type such as list or tuple. Support for non-sequence iterables such as generators is deprecated as of NumPy 1.16 and will raise an error in the future.\n",
      "  for step in steps)\n",
      "/home/akhil/.local/lib/python3.6/site-packages/numdifftools/limits.py:182: FutureWarning: arrays to stack must be passed as a \"sequence\" type such as list or tuple. Support for non-sequence iterables such as generators is deprecated as of NumPy 1.16 and will raise an error in the future.\n",
      "  f_del = np.vstack(list(np.ravel(r)) for r in sequence)\n",
      "/home/akhil/.local/lib/python3.6/site-packages/numdifftools/limits.py:184: FutureWarning: arrays to stack must be passed as a \"sequence\" type such as list or tuple. Support for non-sequence iterables such as generators is deprecated as of NumPy 1.16 and will raise an error in the future.\n",
      "  for step in steps)\n",
      "/home/akhil/.local/lib/python3.6/site-packages/numdifftools/limits.py:182: FutureWarning: arrays to stack must be passed as a \"sequence\" type such as list or tuple. Support for non-sequence iterables such as generators is deprecated as of NumPy 1.16 and will raise an error in the future.\n",
      "  f_del = np.vstack(list(np.ravel(r)) for r in sequence)\n",
      "/home/akhil/.local/lib/python3.6/site-packages/numdifftools/limits.py:184: FutureWarning: arrays to stack must be passed as a \"sequence\" type such as list or tuple. Support for non-sequence iterables such as generators is deprecated as of NumPy 1.16 and will raise an error in the future.\n",
      "  for step in steps)\n"
     ]
    },
    {
     "data": {
      "text/plain": [
       "     fun: 1.163857025245664e-13\n",
       "    hess: array([[2.5, 1. ],\n",
       "       [1. , 4. ]])\n",
       "     jac: array([4.57705434e-07, 9.15410869e-07])\n",
       " message: 'Optimization terminated successfully.'\n",
       "    nfev: 5\n",
       "    nhev: 4\n",
       "     nit: 4\n",
       "    njev: 5\n",
       "  status: 0\n",
       " success: True\n",
       "       x: array([1.01712319e-07, 2.03424637e-07])"
      ]
     },
     "execution_count": 11,
     "metadata": {},
     "output_type": "execute_result"
    }
   ],
   "source": [
    "x0 = np.array([2, 0]) # initial guess\n",
    "minimize(fun, x0, method='dogleg', jac=fun_der, hess=fun_hess)"
   ]
  },
  {
   "cell_type": "markdown",
   "metadata": {},
   "source": [
    "# NOTE:\n",
    "While is extremely cool and easy to use, I would recommend NOT using these methods to calculate the Jacobian and Hessian. As the objective function gets more complex, the computation time will increases and this will be costly. \n",
    "\n",
    "# TL;DR\n",
    "Calculate the Jacobian and Hessian. No matter how complex or dirty the math is, the computational cost far outweighs the mathematical complexity. Worse case-scenario: [wolfram-alpha](https://www.wolframalpha.com/)\n",
    "\n",
    "See (https://stackoverflow.com/questions/41137092/jacobian-and-hessian-inputs-in-scipy-optimize-minimize) for more details"
   ]
  }
 ],
 "metadata": {
  "kernelspec": {
   "display_name": "Python 3",
   "language": "python",
   "name": "python3"
  },
  "language_info": {
   "codemirror_mode": {
    "name": "ipython",
    "version": 3
   },
   "file_extension": ".py",
   "mimetype": "text/x-python",
   "name": "python",
   "nbconvert_exporter": "python",
   "pygments_lexer": "ipython3",
   "version": "3.6.7"
  }
 },
 "nbformat": 4,
 "nbformat_minor": 2
}
